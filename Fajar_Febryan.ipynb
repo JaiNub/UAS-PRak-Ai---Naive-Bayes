{
  "nbformat": 4,
  "nbformat_minor": 0,
  "metadata": {
    "colab": {
      "name": "Fajar Febryan.ipynb",
      "provenance": []
    },
    "kernelspec": {
      "name": "python3",
      "display_name": "Python 3"
    },
    "language_info": {
      "name": "python"
    }
  },
  "cells": [
    {
      "cell_type": "code",
      "execution_count": 1,
      "metadata": {
        "id": "K3QaYTnsfccQ"
      },
      "outputs": [],
      "source": [
        "import numpy as np\n",
        "import pandas as pd"
      ]
    },
    {
      "cell_type": "code",
      "source": [
        "dataset = pd.read_csv (\"Dataset_Transaksi.csv\")\n",
        "x=dataset.iloc[:,[2,3]].values\n",
        "y=dataset.iloc[:,-1].values"
      ],
      "metadata": {
        "id": "2lB5baC-fqBk"
      },
      "execution_count": 2,
      "outputs": []
    },
    {
      "cell_type": "code",
      "source": [
        "print(x)"
      ],
      "metadata": {
        "colab": {
          "base_uri": "https://localhost:8080/"
        },
        "id": "UM3nRzhIgA33",
        "outputId": "a5586c97-d42f-4368-ef97-ea700b51a4f2"
      },
      "execution_count": 3,
      "outputs": [
        {
          "output_type": "stream",
          "name": "stdout",
          "text": [
            "[[    36  58470]\n",
            " [    20 144700]\n",
            " [    20  54997]\n",
            " [    25 116273]\n",
            " [    22 129683]\n",
            " [    29 102621]\n",
            " [    24 146419]\n",
            " [    33 139826]\n",
            " [    22 127793]\n",
            " [    20  83564]\n",
            " [    37  90642]\n",
            " [    33  84662]\n",
            " [    36  73891]\n",
            " [    26  78940]\n",
            " [    28 119426]\n",
            " [    22  91380]\n",
            " [    34 116245]\n",
            " [    30 115237]\n",
            " [    38  64602]\n",
            " [    38 129485]\n",
            " [    16 104124]\n",
            " [    38 101129]\n",
            " [    16 122981]\n",
            " [    23 100974]\n",
            " [    17 147746]\n",
            " [    23  61909]\n",
            " [    36 131739]\n",
            " [    26  70315]\n",
            " [    28 132073]\n",
            " [    31 105265]\n",
            " [    25 140525]\n",
            " [    32 134563]\n",
            " [    32 119480]\n",
            " [    29  92913]\n",
            " [    20 117891]\n",
            " [    15 125106]\n",
            " [    34  61813]\n",
            " [    35 100349]\n",
            " [    35  60673]\n",
            " [    29 149173]\n",
            " [    34 120289]\n",
            " [    23  63117]\n",
            " [    33 113253]\n",
            " [    15 118111]\n",
            " [    27 138223]\n",
            " [    32  80646]\n",
            " [    26  70626]\n",
            " [    36 148094]\n",
            " [    34 121653]\n",
            " [    23 149845]\n",
            " [    17  55801]\n",
            " [    15  79350]\n",
            " [    31  99717]\n",
            " [    33 139002]\n",
            " [    36 130854]\n",
            " [    25  91752]\n",
            " [    15 131267]\n",
            " [    34 111278]\n",
            " [    28 145177]\n",
            " [    31  86830]\n",
            " [    15 101662]\n",
            " [    17  96732]\n",
            " [    20 101355]\n",
            " [    29 119461]\n",
            " [    26  87273]\n",
            " [    16  84279]\n",
            " [    39 145081]\n",
            " [    15 117493]\n",
            " [    23 148597]\n",
            " [    22 147601]\n",
            " [    16  60860]\n",
            " [    40  50351]\n",
            " [    38 101348]\n",
            " [    35 100933]\n",
            " [    23 111123]\n",
            " [    32  66723]\n",
            " [    27 108576]\n",
            " [    22  97571]\n",
            " [    32 102744]\n",
            " [    37  99709]\n",
            " [    40 120199]\n",
            " [    37  53030]\n",
            " [    38 141106]\n",
            " [    29 112701]\n",
            " [    33  81541]\n",
            " [    23 108851]\n",
            " [    33 128442]\n",
            " [    32  97670]\n",
            " [    40 148974]\n",
            " [    40  96766]\n",
            " [    34 137437]\n",
            " [    29 105505]\n",
            " [    40  78392]\n",
            " [    18 132078]\n",
            " [    33  99549]\n",
            " [    40  70723]\n",
            " [    39 125268]\n",
            " [    21  50640]\n",
            " [    18  92978]\n",
            " [    21 104721]]\n"
          ]
        }
      ]
    },
    {
      "cell_type": "code",
      "source": [
        "print(y)"
      ],
      "metadata": {
        "colab": {
          "base_uri": "https://localhost:8080/"
        },
        "id": "zkkiNY4MgFLX",
        "outputId": "acd3d32b-7e82-4b67-9550-d0bd663d466f"
      },
      "execution_count": 4,
      "outputs": [
        {
          "output_type": "stream",
          "name": "stdout",
          "text": [
            "[1 0 1 0 0 0 0 1 1 0 0 0 1 1 0 0 1 1 1 1 0 1 1 1 1 0 0 0 1 0 1 1 0 0 1 0 0\n",
            " 1 1 1 1 1 0 1 0 1 0 1 1 0 0 1 1 0 1 0 1 1 0 1 0 1 0 0 0 1 1 1 0 0 0 1 0 0\n",
            " 0 0 1 0 0 1 1 1 0 0 1 1 0 1 0 0 0 0 1 1 0 1 0 1 1 0]\n"
          ]
        }
      ]
    },
    {
      "cell_type": "code",
      "source": [
        "from sklearn.model_selection import train_test_split\n",
        "x_train,x_test,y_train,y_test = train_test_split(x,y,test_size=0.25,random_state=0)"
      ],
      "metadata": {
        "id": "56t6Q3PjgJ2C"
      },
      "execution_count": 5,
      "outputs": []
    },
    {
      "cell_type": "code",
      "source": [
        "print(x_train)"
      ],
      "metadata": {
        "colab": {
          "base_uri": "https://localhost:8080/"
        },
        "id": "5ZXnYY-ggf6D",
        "outputId": "5a2c9405-8508-4514-ff55-8f73b78d67aa"
      },
      "execution_count": 6,
      "outputs": [
        {
          "output_type": "stream",
          "name": "stdout",
          "text": [
            "[[    34 121653]\n",
            " [    24 146419]\n",
            " [    21 104721]\n",
            " [    38 141106]\n",
            " [    27 108576]\n",
            " [    15 101662]\n",
            " [    40 120199]\n",
            " [    34 137437]\n",
            " [    23 148597]\n",
            " [    15  79350]\n",
            " [    26  70315]\n",
            " [    38  64602]\n",
            " [    15 131267]\n",
            " [    29 119461]\n",
            " [    23 111123]\n",
            " [    20 144700]\n",
            " [    17  96732]\n",
            " [    33 113253]\n",
            " [    23  63117]\n",
            " [    22 129683]\n",
            " [    22  91380]\n",
            " [    30 115237]\n",
            " [    34 120289]\n",
            " [    35  60673]\n",
            " [    29 102621]\n",
            " [    29 105505]\n",
            " [    31  86830]\n",
            " [    36  58470]\n",
            " [    20 117891]\n",
            " [    28 132073]\n",
            " [    17  55801]\n",
            " [    33  84662]\n",
            " [    15 125106]\n",
            " [    23 100974]\n",
            " [    31  99717]\n",
            " [    37  90642]\n",
            " [    32 134563]\n",
            " [    39 145081]\n",
            " [    34 111278]\n",
            " [    37  99709]\n",
            " [    23 108851]\n",
            " [    32 119480]\n",
            " [    33  81541]\n",
            " [    28 119426]\n",
            " [    40  96766]\n",
            " [    38 129485]\n",
            " [    31 105265]\n",
            " [    23 149845]\n",
            " [    21  50640]\n",
            " [    18  92978]\n",
            " [    22 147601]\n",
            " [    16 104124]\n",
            " [    33  99549]\n",
            " [    38 101348]\n",
            " [    22  97571]\n",
            " [    23  61909]\n",
            " [    35 100349]\n",
            " [    37  53030]\n",
            " [    26  70626]\n",
            " [    29 149173]\n",
            " [    16  84279]\n",
            " [    28 145177]\n",
            " [    36  73891]\n",
            " [    40 148974]\n",
            " [    16  60860]\n",
            " [    32  97670]\n",
            " [    34  61813]\n",
            " [    38 101129]\n",
            " [    29 112701]\n",
            " [    20  83564]\n",
            " [    39 125268]\n",
            " [    15 117493]\n",
            " [    26  87273]\n",
            " [    36 148094]\n",
            " [    27 138223]]\n"
          ]
        }
      ]
    },
    {
      "cell_type": "code",
      "source": [
        "print(x_test)"
      ],
      "metadata": {
        "colab": {
          "base_uri": "https://localhost:8080/"
        },
        "id": "YLlIce6UgjFT",
        "outputId": "540d2cef-9870-4568-9aec-db18ba406763"
      },
      "execution_count": 7,
      "outputs": [
        {
          "output_type": "stream",
          "name": "stdout",
          "text": [
            "[[    36 131739]\n",
            " [    33 128442]\n",
            " [    20  54997]\n",
            " [    25  91752]\n",
            " [    32  66723]\n",
            " [    18 132078]\n",
            " [    34 116245]\n",
            " [    35 100933]\n",
            " [    36 130854]\n",
            " [    40  70723]\n",
            " [    33 139002]\n",
            " [    40  78392]\n",
            " [    32 102744]\n",
            " [    26  78940]\n",
            " [    33 139826]\n",
            " [    25 140525]\n",
            " [    16 122981]\n",
            " [    17 147746]\n",
            " [    29  92913]\n",
            " [    22 127793]\n",
            " [    15 118111]\n",
            " [    20 101355]\n",
            " [    25 116273]\n",
            " [    40  50351]\n",
            " [    32  80646]]\n"
          ]
        }
      ]
    },
    {
      "cell_type": "code",
      "source": [
        ""
      ],
      "metadata": {
        "id": "K_yrsf6pgwvE"
      },
      "execution_count": null,
      "outputs": []
    },
    {
      "cell_type": "code",
      "source": [
        "print(y_train)"
      ],
      "metadata": {
        "colab": {
          "base_uri": "https://localhost:8080/"
        },
        "id": "afNmc8kygl5J",
        "outputId": "eac468f2-6cc7-4cbe-8514-5cebe9f1dfd7"
      },
      "execution_count": 8,
      "outputs": [
        {
          "output_type": "stream",
          "name": "stdout",
          "text": [
            "[1 0 0 0 1 0 1 0 0 1 0 1 1 0 0 0 1 0 1 0 0 1 1 1 0 0 1 1 1 1 0 0 0 1 1 0 1\n",
            " 1 1 1 1 0 1 0 0 1 0 0 1 1 0 0 0 0 0 0 1 1 0 1 1 0 1 0 0 1 0 1 0 0 0 1 0 1\n",
            " 0]\n"
          ]
        }
      ]
    },
    {
      "cell_type": "code",
      "source": [
        "print(y_test)"
      ],
      "metadata": {
        "colab": {
          "base_uri": "https://localhost:8080/"
        },
        "id": "Q5_aXvtYgpZ4",
        "outputId": "791ae8d2-2e01-44f8-957f-f9836ab6f4c3"
      },
      "execution_count": 9,
      "outputs": [
        {
          "output_type": "stream",
          "name": "stdout",
          "text": [
            "[0 0 1 0 0 1 1 0 1 1 0 1 0 1 1 1 1 1 0 1 1 0 0 1 1]\n"
          ]
        }
      ]
    },
    {
      "cell_type": "code",
      "source": [
        "from pandas.core.common import standardize_mapping\n",
        "from sklearn.preprocessing import StandardScaler\n",
        "sc = StandardScaler()\n",
        "x_train = sc.fit_transform(x_train)\n",
        "x_test = sc.fit_transform(x_test)"
      ],
      "metadata": {
        "id": "XnO08H5Lgx4f"
      },
      "execution_count": 11,
      "outputs": []
    },
    {
      "cell_type": "code",
      "source": [
        "print(x_test)"
      ],
      "metadata": {
        "colab": {
          "base_uri": "https://localhost:8080/"
        },
        "id": "iOy6fgYChPSd",
        "outputId": "b58def44-b75a-4906-c30b-b2af905f9bf1"
      },
      "execution_count": 12,
      "outputs": [
        {
          "output_type": "stream",
          "name": "stdout",
          "text": [
            "[[ 0.96366589  0.89739197]\n",
            " [ 0.57509094  0.78024185]\n",
            " [-1.10873388 -1.82943082]\n",
            " [-0.46110895 -0.52343968]\n",
            " [ 0.44556595 -1.4127786 ]\n",
            " [-1.36778385  0.90943743]\n",
            " [ 0.70461592  0.34685391]\n",
            " [ 0.83414091 -0.19721728]\n",
            " [ 0.96366589  0.86594585]\n",
            " [ 1.48176584 -1.27064925]\n",
            " [ 0.57509094  1.15546335]\n",
            " [ 1.48176584 -0.99815174]\n",
            " [ 0.44556595 -0.13286821]\n",
            " [-0.33158396 -0.97868001]\n",
            " [ 0.57509094  1.184742  ]\n",
            " [-0.46110895  1.2095791 ]\n",
            " [-1.62683382  0.58619974]\n",
            " [-1.49730884  1.46615813]\n",
            " [ 0.05699099 -0.48218664]\n",
            " [-0.84968391  0.75718136]\n",
            " [-1.75635881  0.41315725]\n",
            " [-1.10873388 -0.18222263]\n",
            " [-0.46110895  0.34784881]\n",
            " [ 1.48176584 -1.99451406]\n",
            " [ 0.44556595 -0.91806184]]\n"
          ]
        }
      ]
    },
    {
      "cell_type": "code",
      "source": [
        "from sklearn.naive_bayes import GaussianNB\n",
        "classifier = GaussianNB()\n",
        "classifier.fit(x_train,y_train)"
      ],
      "metadata": {
        "colab": {
          "base_uri": "https://localhost:8080/"
        },
        "id": "_zfUpuVahUN8",
        "outputId": "c651339e-28fc-4612-ab78-68cf634bd9a9"
      },
      "execution_count": 14,
      "outputs": [
        {
          "output_type": "execute_result",
          "data": {
            "text/plain": [
              "GaussianNB()"
            ]
          },
          "metadata": {},
          "execution_count": 14
        }
      ]
    },
    {
      "cell_type": "code",
      "source": [
        "y_pred = classifier.predict(x_test)"
      ],
      "metadata": {
        "id": "0X5n9KQqhzWe"
      },
      "execution_count": 15,
      "outputs": []
    },
    {
      "cell_type": "code",
      "source": [
        "from sklearn.metrics import confusion_matrix\n",
        "cm = confusion_matrix(y_test,y_pred)"
      ],
      "metadata": {
        "id": "lTtl_5pZh6_h"
      },
      "execution_count": 16,
      "outputs": []
    },
    {
      "cell_type": "code",
      "source": [
        "print(cm)\n"
      ],
      "metadata": {
        "colab": {
          "base_uri": "https://localhost:8080/"
        },
        "id": "c9LIz76piHSn",
        "outputId": "b4414c95-1791-49fb-db6f-68ca6cd762e6"
      },
      "execution_count": 17,
      "outputs": [
        {
          "output_type": "stream",
          "name": "stdout",
          "text": [
            "[[ 8  2]\n",
            " [10  5]]\n"
          ]
        }
      ]
    },
    {
      "cell_type": "code",
      "source": [
        "var1=8\n",
        "var2=5\n",
        "var3=2\n",
        "var4=10\n",
        "hasil = (var1+var2)/(var1+var2+var3+var4)*100"
      ],
      "metadata": {
        "id": "LcFFmm_aiQ_h"
      },
      "execution_count": 20,
      "outputs": []
    },
    {
      "cell_type": "code",
      "source": [
        "print(hasil)"
      ],
      "metadata": {
        "colab": {
          "base_uri": "https://localhost:8080/"
        },
        "id": "GE9bY8w2ie-c",
        "outputId": "28e5c461-fdde-44ad-d2d0-60a7e5d7152d"
      },
      "execution_count": 21,
      "outputs": [
        {
          "output_type": "stream",
          "name": "stdout",
          "text": [
            "52.0\n"
          ]
        }
      ]
    }
  ]
}